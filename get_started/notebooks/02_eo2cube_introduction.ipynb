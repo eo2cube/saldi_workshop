{
 "cells": [
  {
   "cell_type": "markdown",
   "metadata": {},
   "source": [
    "<img align=\"right\" src=\"../../additional_data/banner_siegel.png\" style=\"width:1000px;\">"
   ]
  },
  {
   "cell_type": "markdown",
   "metadata": {},
   "source": [
    "# Introduction to eo2cube\n",
    "\n",
    "<span style='color:red'>**for me below url not working**</span>\n",
    "* [**Sign up to the JupyterHub**](https://www.phenocube.org/) to run this notebook interactively from your browser\n",
    "* **Compatibility**: Notebook currently compatible with the Open Data Cube environments of the University of Wuerzburg\n",
    "* **Prerequisites**:  Users of this notebook should have a basic understanding of:\n",
    "    * How to run a [Jupyter notebook](01_jupyter_introduction.ipynb) "
   ]
  },
  {
   "cell_type": "markdown",
   "metadata": {
    "jp-MarkdownHeadingCollapsed": true,
    "tags": []
   },
   "source": [
    "## Background\n",
    "eo2cube is underpinned by the [Open Data Cube](https://www.opendatacube.org/) (ODC), an open source software package that has an ever growing number of users, contributors and implementations.\n",
    "\n",
    "The ODC and eo2cube platforms are designed to:\n",
    "\n",
    "* Catalogue large amounts of Earth observation data\n",
    "* Provide a Python based API for high performance querying and data access\n",
    "* Give users easy ability to perform exploratory data analysis\n",
    "* Allow scalable sub-national-scale processing of the stored data\n",
    "* Track the provenance of data to allow for quality control and updates\n",
    "\n",
    "The eo2cube project catalogues data from a range of satellite sensors and has adopted processes and terminology that users should be aware of to enable efficient querying and use of the datasets stored within.\n",
    "This notebook introduces these important concepts and forms the basis of understanding for the remainder of the notebooks in this beginner's guide.\n",
    "Resources to further explore these concepts are recommended at the end of the notebook.\n",
    "\n",
    "\n",
    "## What is an Earth Observation Data Cube\n",
    "\n",
    "ODC is an Open Source Project for the geospatial data management and analyses of Big Earth data such as satellite time series. The overall goal is to unleash the power of satellite data. The core of the ODC is a set of Python libraries and a PostgreSQL database. The ODC impacts powerfully the increased value of continuously provided satellite time series. Committee on Earth Observation Satellites (CEOS) is a founding partner of the Open Data Cube (ODC) and is committed to contributing to the ODC architecture as part of the ODC community. According to CEOS, eo2cube seeks to encourage others to join the initiative to meet important goals of societal benefits, similar to the objectives of the Australian Geoscience Data Cube (AGDC) and Google Earth Engine (GEE), but differing inimplementation."
   ]
  },
  {
   "cell_type": "markdown",
   "metadata": {},
   "source": [
    "## Description\n",
    "This introduction to eo2cube will briefly introduce the ODC and catalouged data in the cube.\n",
    "It will also cover commonly-used terminology for measurements within product datasets.\n",
    "Topics covered include:\n",
    "\n",
    "* A brief introduction to the ODC\n",
    "* A review of the satellite sensors that provide eo2cube data\n",
    "* An introduction to Analysis Ready Data and the processes to make it \n",
    "\n",
    "    \n",
    "***"
   ]
  },
  {
   "cell_type": "markdown",
   "metadata": {},
   "source": [
    "## Open Data Cube\n",
    "\n",
    "![Open Data Cube logo](https://miro.medium.com/max/651/1*VzFPvGV3k2ZhhqOcWyg6fQ.png) [[source]](https://medium.com/opendatacube)\n",
    "\n",
    "The [Open Data Cube](https://www.opendatacube.org/) (ODC) is an open-source software package for organizing and analyzing large quantities of Earth observation data.\n",
    "At its core, the Open Data Cube consists of a database where data is stored, along with commands to load, view and analyze that data. The [datacube-core](https://github.com/opendatacube/datacube-core) open-source Python library delivers this functionality.\n",
    "The library is designed to enable and support:\n",
    "\n",
    "* Large-scale workflows on high-performance computing infrastructures\n",
    "* Exploratory data analysis\n",
    "* Cloud-based services\n",
    "* Standalone applications\n",
    "\n",
    "There are a couple of existing implementations of the ODC, including [Digital Earth Australia](http://www.ga.gov.au/dea) or [Digital Earth Africa](https://www.digitalearthafrica.org/).\n",
    "More information can be found in the [Open Data Cube Manual](https://datacube-core.readthedocs.io/en/latest/index.html).\n"
   ]
  },
  {
   "cell_type": "markdown",
   "metadata": {},
   "source": [
    "## Satellite datasets in eo2cube\n",
    "eo2cube catalogues data from a range of satellite sensors:\n",
    "\n",
    "* [Landsat 5 TM](https://www.usgs.gov/land-resources/nli/landsat/landsat-5?qt-science_support_page_related_con=0#qt-science_support_page_related_con) (LS5 TM), operational between March 1984 and January 2013\n",
    "* [Landsat 7 ETM+](https://www.usgs.gov/land-resources/nli/landsat/landsat-7?qt-science_support_page_related_con=0#qt-science_support_page_related_con) (LS7 ETM+), operational since April 1999\n",
    "* [Landsat 8 OLI](https://www.usgs.gov/land-resources/nli/landsat/landsat-8?qt-science_support_page_related_con=0#qt-science_support_page_related_con) (LS8 OLI), operational since February 2013\n",
    "* [Sentinel 1A SAR](https://sentinel.esa.int/web/sentinel/missions/sentinel-1) (S1A SAR), operational since April 2014\n",
    "* [Sentinel 1B SAR](https://sentinel.esa.int/web/sentinel/missions/sentinel-1) (S1B SAR), operational since April 2016\n",
    "* [Sentinel 2A MSI](https://sentinel.esa.int/web/sentinel/missions/sentinel-2) (S2A MSI), operational since June 2015\n",
    "* [Sentinel 2B MSI](https://sentinel.esa.int/web/sentinel/missions/sentinel-2) (S2B MSI, operational since March 2017\n",
    "\n",
    "Landsat missions are jointly operated by the United States Geological Survey (USGS) and the National Aeronautics and Space Administration (NASA).\n",
    "Sentinel missions are operated by the European Space Agency (ESA).\n",
    "One significant difference between the two programs is the spatial resolution: each Landsat pixel represents 30 x 30 m on the ground while each Sentinel-2 pixel represents 10 x 10 m to 60 x 60 m depending on the spectral band.\n",
    "\n",
    "### Spectral bands\n",
    "All of the datasets listed above are captured by multispectral satellites. \n",
    "The multispectral satellites primarily measure light reflected from the Earth's surface in discrete sections of the electromagnetic spectrum, known as *spectral bands*.  \n",
    "Figure 1 shows the spectral bands for recent Landsat and Sentinel-2 sensors, helping to compare how each sensor samples the overall electromagnetic spectrum directly. Landsat 5 TM is not displayed in this image; for reference, it measured light in seven bands that covered the same regions as bands 1 to 7 on Landsat 7 ETM+.\n",
    "\n",
    "<span style='color:red'>**cannot see**</span>\n",
    "![Image](https://prd-wret.s3-us-west-2.amazonaws.com/assets/palladium/production/s3fs-public/styles/full_width/public/thumbnails/image/dmidS2LS7Comparison.png)\n",
    "\n",
    "> **Figure 1:** **The bands that are detected by each of the satellites are shown in the numbered boxes and the width of each box represents the spectral range that band detects.**\n",
    "The bands are overlaid on the percentage transmission of each wavelength returned to the atmosphere from the Earth relative to the amount of incoming solar radiation. \n",
    "The y-axis has no bearing on the comparison of the satellite sensors [[source]](https://directory.eoportal.org/web/eoportal/satellite-missions/l/landsat-9).\n",
    "\n",
    "\n",
    "Figure 1 highlights that specific band designations differ between sensors. When working with different sensors, it is crucial to be aware of the differences in their bands from the sensors and any impact on analysis. For example, Landsat 5 TM and Landsat 7 ETM+ number their red, green, and blue sensors as 3, 2, and 1, so we get a true-color image when we combine them. However, Landsat 8 OLI and Sentinel-2 MSI (A and B) number their red, green, and blue sensors as 4, 3, and 2. \n",
    "So, DEA band naming is based on the spectral band name and sample region to avoid confusion. We will cover the naming convention with more details later in the [DEA band naming conventions section](#DEA-band-naming-conventions).  <span style='color:red'>**not found**</span>"
   ]
  },
  {
   "cell_type": "markdown",
   "metadata": {
    "tags": []
   },
   "source": [
    "## Analysis Ready Data\n",
    "\n",
    "eo2cube offers Analysis Ready Data (ARD) for each sensor listed above. \n",
    "The [ARD standard](http://ceos.org/ard/) for satellite data requires several processing steps and the creation of additional attributes for the data. eo2cube's ARD datasets have the following processing steps:\n",
    "\n",
    "* **Geometric correction:** It includes (1) establishing the ground position. For example, it corrects imagery acquired at different times, seasons, and geographic locations to track meaningful changes over time and (2) removing the effects of image perspective (tilt) and relief (terrain) effects.\n",
    "\n",
    "* **Surface reflectance correction:** It includes adjustments (1) for sensor/instrument gains, biases and offsets, and (2) for terrain illumination and sensor viewing angle to the pixel position on the surface.\n",
    "Once satellite data is processed to surface reflectance, pixel values from the same sensor can be compared consistently spatially and over time.\n",
    "\n",
    "* **Observation attributes:** Per-pixel metadata such as quality flags (pixel_qa, Landsat) or the sen2cor scene classification (scl, Sentinel 2) and content attribution enable users to make informed decisions about the suitability of the products for their use. For example, clouds, cloud shadows, missing data, saturation, and water are common pixel level attributes.\n",
    "\n",
    "* **Metadata:** Dataset metadata includes the satellite, instrument, acquisition date and time, spatial boundaries, pixel locations, mode, processing details, spectral or frequency response, and grid projection."
   ]
  },
  {
   "cell_type": "markdown",
   "metadata": {},
   "source": [
    "### Surface reflectance\n",
    "\n",
    "Optical sensors (ex.  Landsat and Sentinel-2) measure the light energy reflected from the Earth's surface, and the source of the measured light energy is the sun. The sensors collect light energy within specific regions of the electromagnetic spectrum. A band represents each region in the spectrum. The sensor measures the intensity of light (known as \"radiance\") in each spectral band. Many factors affect radiation: the sun's position, the sensor view angle to the ground, and Earth's atmosphere. Therefore, it is better to determine how much light was reflected initially at the ground level. Surface reflectance can be calculated using robust physical models to correct the observed radiance values based on atmospheric conditions, sun angle, sensor geometry, and local topography or terrain. It is known as bottom-of-atmosphere surface reflectance or Level 2A data.\n",
    "\n",
    "### SAR (Synthetic Aperture Radar) data\n",
    "\n",
    "Radar satellites (ex. Sentinel-1) are active systems. A SAR instrument records the amount of that energy reflected from the Earth's surface by sending out microwave radiation, differing from passive systems, which rely on the illumination of the Earth by the sun. "
   ]
  },
  {
   "cell_type": "markdown",
   "metadata": {},
   "source": [
    "## Data format\n",
    "\n",
    "### eo2cube band naming conventions\n",
    "\n",
    "To account for the various available satellite datasets, eo2cube uses a band naming convention to help distinguish datasets that come from the different sensors. \n",
    "\n",
    "**Table 1** summarises the eo2cube band naming terminology for the spectral regions of the optical sensors:\n",
    "\n",
    "|Spectral region|eo2cube measurement name |Landsat 5<br>TM|Landsat 7<br>ETM+|Landsat 8<br>OLI|Sentinel-2A,B<br>MSI|\n",
    "|----|----|----|----|----|----|\n",
    "|Coastal aerosol|coastal_aerosol|||B01|B01|\n",
    "|Blue|blue|B01|B01|B02|B02|\n",
    "|Green|green|B02|B02|B03|B03|\n",
    "|Red|red|B03|B03|B04|B04|\n",
    "|NIR (Near infra-red)|nir (Landsat)<br> nir_narrow, nir_2 (Sentinel-2)|B04|B04|B05|B08A|\n",
    "|SWIR 1 (Short wave infra-red 1)|swir_1 (Landsat) <br>swir_1, swir_16 (Sentinel-2) |B05|B05|B06|B11|\n",
    "|SWIR 2 (Short wave infra-red 2)|swir_2 (Landsat) <br>swir_2, swir_22 (Sentinel-2) |B07|B07|B07|B12|\n",
    "\n",
    "> **Note:** Be aware that NIR and SWIR band names differ between Landsat and Sentinel-2 due to the different number of these bands available in Sentinel-2. The `nir` Landsat band corresponds to the spectral region covered by Sentinel-2's `narrow_nir, nir_2` band, the `swir_1` Landsat band corresponds to Sentinel-2's `swir_1, swir_16` band, and the `swir_2` Landsat band corresponds to Sentinel-2's `swir_2, swir_22` band.\n"
   ]
  },
  {
   "cell_type": "markdown",
   "metadata": {},
   "source": [
    "**Table 2** focuses on Sentinel-2\n",
    "\n",
    "\n",
    "|Spectral region|eo2cube measurement name |Band|\n",
    "|----|----|----|\n",
    "|Coastal aerosol|coastal_aerosol|B01|\n",
    "|Blue|blue|B02|\n",
    "|Green|green|B03|\n",
    "|Red|red|B04|\n",
    "|Red-Edge 1|red_edge_1|B05|\n",
    "|Red-Edge 2|red_edge_2|B06|\n",
    "|Red-Edge 3|red_edge_3|B07|\n",
    "|NIR|nir, nir_1|B08|\n",
    "|Narrow NIR|nir_narrow, nir_2|B8A|\n",
    "|Water vapur|water_vapour|B09|\n",
    "|SWIR 1 (Short wave infra-red 1)|swir_1, swir_16|B11|\n",
    "|SWIR 2 (Short wave infra-red 2)|swir_2, swir_22|B12|"
   ]
  },
  {
   "cell_type": "markdown",
   "metadata": {},
   "source": [
    "### eo2cube satellite data projection and holdings\n",
    "Keeping with the practices of the Landsat and Sentinel satellite programs, all satellite datasets should be projected using the **Universal Transverse Mercator (UTM)** coordinate reference system. **This is not the case for eo2cube!**<br>\n",
    "Sentinel-2 data is used in different UTM-projections, e.g. the Bavarian-Data-Cube uses the ETRS1989 ellipsoid instead of the WGS84. Landsat data is reprojected to the general WGS84 lat/lon projection. "
   ]
  },
  {
   "cell_type": "markdown",
   "metadata": {},
   "source": [
    "## Recommended next steps\n",
    "For more detailed information on the concepts introduced in this notebook, please see the [DEA User Guide](https://docs.dea.ga.gov.au/index.html#) and [Open Data Cube Manual](https://datacube-core.readthedocs.io/en/latest/).\n",
    "For more information on the development of the DEA platform, please see [Dhu et al. 2017](https://doi.org/10.1080/20964471.2017.1402490).\n",
    "\n",
    "<br>\n",
    "To continue working through the notebooks in this beginner's guide, the following notebooks are designed to be worked through in the following order:\n",
    "\n",
    "1. [Jupyter Notebooks](https://github.com/eo2cube/eo2cube_notebooks/blob/main/get_started/intro_to_eo2cube/01_jupyter_introduction.ipynb)\n",
    "2. ***eo2cube (this notebook)***\n",
    "3. [Loading Data](https://github.com/eo2cube/eo2cube_notebooks/blob/main/get_started/intro_to_eo2cube/03_data_lookup_and_loading.ipynb)\n",
    "4. [Xarray I: Data Structure](https://github.com/eo2cube/eo2cube_notebooks/blob/main/get_started/intro_to_eo2cube/04_xarrayI_data_structure.ipynb)\n",
    "5. [Xarray II: Index and Statistics](https://github.com/eo2cube/eo2cube_notebooks/blob/main/get_started/intro_to_eo2cube/05_xarrayII.ipynb)\n",
    "6. [Plotting data](https://github.com/eo2cube/eo2cube_notebooks/blob/main/get_started/intro_to_eo2cube/06_plotting_basics.ipynb)\n",
    "7. [Spatial analysis](https://github.com/eo2cube/eo2cube_notebooks/blob/main/get_started/intro_to_eo2cube/07_basic_analysis.ipynb)\n",
    "8. [Parallel processing with Dask](https://github.com/eo2cube/eo2cube_notebooks/blob/main/get_started/intro_to_eo2cube/08_parallel_processing_with_dask.ipynb)\n",
    "\n",
    "The additional notebooks are designed for users to build up both basic and advanced skills which are not covered by the beginner's guide. Self-motivated users can go through them according to their own needs. They act as complements for the guide:\n",
    "<br>\n",
    "\n",
    "1. [Python's file management tools](https://github.com/eo2cube/eo2cube_notebooks/blob/main/get_started/intro_to_eo2cube/I_file_management.ipynb)\n",
    "2. [Image Processing basics using NumPy and Matplotlib](https://github.com/eo2cube/eo2cube_notebooks/blob/main/get_started/intro_to_eo2cube/II_numpy_image_processing.ipynb)\n",
    "3. [Vector Processing](https://github.com/eo2cube/eo2cube_notebooks/blob/main/get_started/intro_to_eo2cube/III_process_vector_data.ipynb)\n",
    "4. [Advanced Plotting](https://github.com/eo2cube/eo2cube_notebooks/blob/main/get_started/intro_to_eo2cube/IV_advanced_plotting.ipynb)"
   ]
  },
  {
   "cell_type": "markdown",
   "metadata": {},
   "source": [
    "***\n",
    "\n",
    "## Additional information\n",
    "\n",
    "<font size=\"2\">This notebook for the usage in the Open Data Cube entities of the [Department of Remote Sensing](http://remote-sensing.org/), [University of Wuerzburg](https://www.uni-wuerzburg.de/startseite/), is adapted from [Geoscience Australia](https://github.com/GeoscienceAustralia/dea-notebooks), published using the Apache License, Version 2.0. Thanks! </font>\n",
    "\n",
    "**License:** The code in this notebook is licensed under the [Apache License, Version 2.0](https://www.apache.org/licenses/LICENSE-2.0). \n",
    "Digital Earth Australia data is licensed under the [Creative Commons by Attribution 4.0](https://creativecommons.org/licenses/by/4.0/) license.\n",
    "\n",
    "\n",
    "**Contact:** If you would like to report an issue with this notebook, you can file one on [Github](https://github.com).\n",
    "\n",
    "**Last modified:** May 2022"
   ]
  }
 ],
 "metadata": {
  "kernelspec": {
   "display_name": "Python 3 (ipykernel)",
   "language": "python",
   "name": "python3"
  },
  "language_info": {
   "codemirror_mode": {
    "name": "ipython",
    "version": 3
   },
   "file_extension": ".py",
   "mimetype": "text/x-python",
   "name": "python",
   "nbconvert_exporter": "python",
   "pygments_lexer": "ipython3",
   "version": "3.9.13"
  },
  "widgets": {
   "application/vnd.jupyter.widget-state+json": {
    "state": {},
    "version_major": 2,
    "version_minor": 0
   }
  }
 },
 "nbformat": 4,
 "nbformat_minor": 4
}
