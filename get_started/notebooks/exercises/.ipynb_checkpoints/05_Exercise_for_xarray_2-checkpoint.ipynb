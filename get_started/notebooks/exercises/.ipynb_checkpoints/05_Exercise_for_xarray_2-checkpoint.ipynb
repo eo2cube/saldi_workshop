{
 "cells": [
  {
   "cell_type": "markdown",
   "id": "7182409f-8b06-41ea-97e4-b7a2ff76e729",
   "metadata": {},
   "source": [
    "<img align=\"right\" src=\"../../../additional_data/banner_siegel.png\" style=\"width:1000px;\">"
   ]
  },
  {
   "cell_type": "markdown",
   "id": "b2f0616f-aa7d-4e88-a1d1-88e2d9b97a26",
   "metadata": {},
   "source": [
    "# Exercise II for using xarray library \n",
    "\n",
    "* [**Sign up to the JupyterHub**](https://www.phenocube.org/) to run this notebook interactively from your browser\n",
    "* **Compatibility:** Notebook currently compatible with the Open Data Cube environments of the University of Wuerzburg\n"
   ]
  },
  {
   "cell_type": "markdown",
   "id": "c3690a10-22d5-4538-8098-63e33e46f0c0",
   "metadata": {},
   "source": [
    "## Load packages and connect to eo2cube datacube\n",
    "\n",
    "Import following libraries; datacube and with_ui_cbk from odc.ui. And connect to eo2cube dataset. "
   ]
  },
  {
   "cell_type": "code",
   "execution_count": null,
   "id": "de716131-3fcd-4588-8144-84d1b38f41c9",
   "metadata": {},
   "outputs": [],
   "source": []
  },
  {
   "cell_type": "markdown",
   "id": "a36d6758-fefb-4a57-9471-18e6a6daad02",
   "metadata": {},
   "source": [
    "## Load data with the dc.load() function \n",
    "\n",
    "Load Sentinel-2 data from the eo2cube datacube with dc.load() function and following options.<br> \n",
    "\n",
    "* Longitude range: (24.80, 24.95), <br> \n",
    "* Latitude range: (-28.88, -28.79) <br> \n",
    "* Time range: 2020-08-01 to 2020-10-31 <br> \n",
    "* Bands: blue, green, red, nir <br> \n",
    "* Output coordinate system: EPSG:32734 <br> \n",
    "* Resolution: 10m <br> \n",
    "* Select only solar days \n",
    "* Use loading bar\n"
   ]
  },
  {
   "cell_type": "code",
   "execution_count": null,
   "id": "8e5ea2c6-a524-4c0c-8716-08a027c4403f",
   "metadata": {},
   "outputs": [],
   "source": []
  },
  {
   "cell_type": "markdown",
   "id": "1b68d18f-fd3c-4df3-9f56-83d3b4a0510f",
   "metadata": {},
   "source": [
    "## Index the dataset \n",
    "\n",
    "1. Select the dataset of first 4 time stamps and show the exact time stamps"
   ]
  },
  {
   "cell_type": "code",
   "execution_count": null,
   "id": "893a2b75-31ad-48eb-b59e-b7eca184675b",
   "metadata": {},
   "outputs": [],
   "source": []
  },
  {
   "cell_type": "markdown",
   "id": "484ade1d-c84a-4eaf-af47-e907b2721ad5",
   "metadata": {},
   "source": [
    "2. Slice the dataset for September 2020"
   ]
  },
  {
   "cell_type": "code",
   "execution_count": null,
   "id": "7fc810a3-acae-49fa-8abd-8f441cdaf3d6",
   "metadata": {},
   "outputs": [],
   "source": []
  },
  {
   "cell_type": "markdown",
   "id": "31fcd8cb-4e13-4644-b17e-190ddb1ddd1f",
   "metadata": {},
   "source": [
    "## Data Manipulation & Statistics\n",
    "\n",
    "1. Print the maximum value of near infrared band."
   ]
  },
  {
   "cell_type": "code",
   "execution_count": null,
   "id": "5b8b4f6d-4fb4-44ab-a8e4-d58b540c2c89",
   "metadata": {},
   "outputs": [],
   "source": []
  },
  {
   "cell_type": "markdown",
   "id": "1af486de-1392-4f07-b8ca-39c401d440a4",
   "metadata": {},
   "source": [
    "2. Print the mean value of near infrared band."
   ]
  },
  {
   "cell_type": "code",
   "execution_count": null,
   "id": "ab651c87-96b0-469a-8dcc-038e70eda6d2",
   "metadata": {},
   "outputs": [],
   "source": []
  },
  {
   "cell_type": "markdown",
   "id": "b85e493a-4cd7-4737-a13c-8b44804959b6",
   "metadata": {},
   "source": [
    "3. Find the reflectance values that are greater than 1000 in the Near Infrared band using `where` function."
   ]
  },
  {
   "cell_type": "code",
   "execution_count": null,
   "id": "344a4dc5-5cd8-4f48-a1ba-e3e6bf3f5132",
   "metadata": {},
   "outputs": [],
   "source": []
  },
  {
   "cell_type": "markdown",
   "id": "8ca083d6-2343-4e73-a165-9af5f65ae138",
   "metadata": {},
   "source": [
    "4. Calculate the mean of the monthly grouped dataset. "
   ]
  },
  {
   "cell_type": "code",
   "execution_count": null,
   "id": "4f4cec25-52b2-497f-a8fd-563169beee94",
   "metadata": {},
   "outputs": [],
   "source": []
  }
 ],
 "metadata": {
  "kernelspec": {
   "display_name": "Python 3 (ipykernel)",
   "language": "python",
   "name": "python3"
  },
  "language_info": {
   "codemirror_mode": {
    "name": "ipython",
    "version": 3
   },
   "file_extension": ".py",
   "mimetype": "text/x-python",
   "name": "python",
   "nbconvert_exporter": "python",
   "pygments_lexer": "ipython3",
   "version": "3.9.13"
  }
 },
 "nbformat": 4,
 "nbformat_minor": 5
}
