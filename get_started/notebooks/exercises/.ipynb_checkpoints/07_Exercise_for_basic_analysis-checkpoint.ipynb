{
 "cells": [
  {
   "cell_type": "markdown",
   "id": "4d8a1c64-9f4c-4044-9370-ff97eb6f4d5f",
   "metadata": {},
   "source": [
    "<img align=\"right\" src=\"../../../additional_data/banner_siegel.png\" style=\"width:1000px;\">"
   ]
  },
  {
   "cell_type": "markdown",
   "id": "a0784ce8-8142-4799-9386-71716c588a5e",
   "metadata": {},
   "source": [
    "# Exercise for basic analysis \n",
    "\n",
    "* [**Sign up to the JupyterHub**](https://www.phenocube.org/) to run this notebook interactively from your browser\n",
    "* **Compatibility:** Notebook currently compatible with the Open Data Cube environments of the University of Wuerzburg\n"
   ]
  },
  {
   "cell_type": "markdown",
   "id": "28a4811e-3e03-41ec-9634-67b10614dfce",
   "metadata": {},
   "source": [
    "## Load packages and connect to eo2cube datacube\n",
    "\n",
    "Import following libraries \n",
    "\n",
    "* datacube \n",
    "* matplotlib.pyplot as plt \n",
    "* geopandas as gpd\n",
    "* with_ui_cbk from odc.ui \n",
    "* rgb from dea_tools.plotting \n",
    "\n",
    "And then, connect to eo2cube dataset. "
   ]
  },
  {
   "cell_type": "code",
   "execution_count": null,
   "id": "d5255a2a-d47c-4fe8-bebb-2e08268b6666",
   "metadata": {},
   "outputs": [],
   "source": []
  },
  {
   "cell_type": "markdown",
   "id": "686679e8-794a-4d6d-870f-fe6592bfdeed",
   "metadata": {},
   "source": [
    "## Read shapefile \n",
    "\n",
    "1. Read \"fields3\" shapefile in data folder using `read_file` function from geopandas package. If you are interested in handling vector data in python, read `III_process_vector_data.ipynb`"
   ]
  },
  {
   "cell_type": "code",
   "execution_count": null,
   "id": "64569588-07f7-43a1-9cac-bebd9c9452a9",
   "metadata": {},
   "outputs": [],
   "source": []
  },
  {
   "cell_type": "markdown",
   "id": "bffe2e25-f76a-4192-bd94-e1b38e4d4627",
   "metadata": {},
   "source": [
    "2. Use [`total_bounds`](\"https://geopandas.org/en/stable/docs/reference/api/geopandas.GeoSeries.total_bounds.html) function from geopandas and set logitude and latitude extents. You can use these extents for loading datacube dataset. The arguments will be logitude and latitude instead of x and y. "
   ]
  },
  {
   "cell_type": "code",
   "execution_count": null,
   "id": "9a4fd876-9f93-4c42-84d3-d3ccb7c56c86",
   "metadata": {},
   "outputs": [],
   "source": []
  },
  {
   "cell_type": "markdown",
   "id": "39c2add0-452d-4e42-98d4-d9587b47cfdc",
   "metadata": {},
   "source": [
    "Load Sentinel-2 data from the eo2cube datacube with dc.load() function and following options.<br> \n",
    "\n",
    "* Longitude range: longitude extents from the shapefile <br> \n",
    "* Latitude range: latitude extents from the shapefile <br> \n",
    "* Time range: 2020-01-01 to 2020-04-30 <br> \n",
    "* Bands: blue, green, red, Near Infrared, a Scene Classification map <br> \n",
    "* Output coordinate system: EPSG:32734 <br> \n",
    "* Resolution: 10m <br> \n",
    "* Select only solar days \n",
    "* Use loading bar\n"
   ]
  },
  {
   "cell_type": "code",
   "execution_count": null,
   "id": "5b7af56f-253d-433c-b674-f82a980f9b3c",
   "metadata": {},
   "outputs": [],
   "source": []
  },
  {
   "cell_type": "markdown",
   "id": "d0cfef35-e0c3-40cb-8e39-0e6bdd9fc473",
   "metadata": {},
   "source": [
    "## Basic analysis\n",
    "\n",
    "1. Plot the dataset of the fourth time stamp as True Color Composite with `rgb` function "
   ]
  },
  {
   "cell_type": "code",
   "execution_count": null,
   "id": "4e78232f-360c-4544-b596-67b7c5267bcd",
   "metadata": {},
   "outputs": [],
   "source": []
  },
  {
   "cell_type": "markdown",
   "id": "0954a0b0-6ddc-48ca-8c5c-7499029cf9b6",
   "metadata": {},
   "source": [
    "2. Mask clouds by using `where` function and SCL band. (Hint: 06_plotting_basics.ipynb)"
   ]
  },
  {
   "cell_type": "code",
   "execution_count": null,
   "id": "77b27427-f317-4bd7-a659-fff90575fe86",
   "metadata": {},
   "outputs": [],
   "source": []
  },
  {
   "cell_type": "markdown",
   "id": "299b43d9-b62c-4358-80d9-111415c7b7de",
   "metadata": {},
   "source": [
    "3. Group by month and calculate the monthly Median. And see the result. "
   ]
  },
  {
   "cell_type": "code",
   "execution_count": null,
   "id": "debb3425-7392-4a7d-8a49-060f16b074c4",
   "metadata": {},
   "outputs": [],
   "source": []
  },
  {
   "cell_type": "markdown",
   "id": "a5febfa5-9d6e-4122-a2e8-24d6dbca7f06",
   "metadata": {},
   "source": [
    "4. Plot the first motnly median image using `rgb` function."
   ]
  },
  {
   "cell_type": "code",
   "execution_count": null,
   "id": "da9c53a6-83f8-4c2f-baef-e279e61e03a6",
   "metadata": {},
   "outputs": [],
   "source": []
  },
  {
   "cell_type": "markdown",
   "id": "2d15fd96-f285-4f29-b3b7-73a09b9a7506",
   "metadata": {},
   "source": [
    "5. Calculate NDVI and add it into our monthly median dataset. "
   ]
  },
  {
   "cell_type": "code",
   "execution_count": null,
   "id": "c1bbe146-c514-4029-8b4e-5fd6f9883167",
   "metadata": {},
   "outputs": [],
   "source": []
  },
  {
   "cell_type": "markdown",
   "id": "97d2b2aa-853f-48dd-8e0a-d3cf881dc15b",
   "metadata": {},
   "source": [
    "6. Compare January and April monthly median NDVI images. Set one row and two colums using `nrow` and `ncol` argument in the `subplot` function from `matplotlib` package. Recommened color map is \"RdYlGn\""
   ]
  },
  {
   "cell_type": "code",
   "execution_count": null,
   "id": "02f7aa2d-8b5a-403a-bf12-42336e82255b",
   "metadata": {},
   "outputs": [],
   "source": []
  }
 ],
 "metadata": {
  "kernelspec": {
   "display_name": "Python 3 (ipykernel)",
   "language": "python",
   "name": "python3"
  },
  "language_info": {
   "codemirror_mode": {
    "name": "ipython",
    "version": 3
   },
   "file_extension": ".py",
   "mimetype": "text/x-python",
   "name": "python",
   "nbconvert_exporter": "python",
   "pygments_lexer": "ipython3",
   "version": "3.9.13"
  }
 },
 "nbformat": 4,
 "nbformat_minor": 5
}
