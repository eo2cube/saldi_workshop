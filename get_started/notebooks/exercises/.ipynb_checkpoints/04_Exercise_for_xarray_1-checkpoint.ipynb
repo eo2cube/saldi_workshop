{
 "cells": [
  {
   "cell_type": "markdown",
   "id": "0757d06f-86fd-4511-828e-1706bef0ded8",
   "metadata": {},
   "source": [
    "<img align=\"right\" src=\"../../../additional_data/banner_siegel.png\" style=\"width:1000px;\">"
   ]
  },
  {
   "cell_type": "markdown",
   "id": "df2b9540-fe26-4bbd-938c-b1262e891b8d",
   "metadata": {},
   "source": [
    "# Exercise I for using xarray library \n",
    "\n",
    "* [**Sign up to the JupyterHub**](https://www.phenocube.org/) to run this notebook interactively from your browser\n",
    "* **Compatibility:** Notebook currently compatible with the Open Data Cube environments of the University of Wuerzburg\n",
    "\n",
    "In this exercise, we will explore datacube datasets, subset and reshape them. "
   ]
  },
  {
   "cell_type": "markdown",
   "id": "8cebb5d0-d0a2-4b2d-8508-cb45eb89edd4",
   "metadata": {},
   "source": [
    "## Load packages \n",
    "\n",
    "Import following libraries; datacube and with_ui_cbk from odc.ui."
   ]
  },
  {
   "cell_type": "code",
   "execution_count": null,
   "id": "1ffbae0c-7a69-46de-be3b-0b65f42d1642",
   "metadata": {},
   "outputs": [],
   "source": []
  },
  {
   "cell_type": "markdown",
   "id": "82efa564-997f-4e85-be14-4846e5705e34",
   "metadata": {},
   "source": [
    "## Connect to eo2cube Datacube \n",
    "\n",
    "Connect to eo2cube Datacube and use app argument to define a name of this exercise. "
   ]
  },
  {
   "cell_type": "code",
   "execution_count": null,
   "id": "95e647dc-cc0b-4534-bee5-f7d5a82b7acb",
   "metadata": {},
   "outputs": [],
   "source": []
  },
  {
   "cell_type": "markdown",
   "id": "749b95e3-4a13-424d-90b2-56b60948b71f",
   "metadata": {},
   "source": [
    "## Load data with the dc.load() function \n",
    "\n",
    "Load Sentinel-2 data from the eo2cube datacube with dc.load() function and following options.<br> \n",
    "\n",
    "* Longitude range: (24.80, 24.95), <br> \n",
    "* Latitude range: (-28.88, -28.79) <br> \n",
    "* Time range: 2020-06-01 to 2020-08-31 <br> \n",
    "* Bands: blue, green, red <br> \n",
    "* Output coordinate system: EPSG:32734 <br> \n",
    "* Resolution: 10m <br> \n",
    "* Select only solar days \n",
    "* Use loading bar\n"
   ]
  },
  {
   "cell_type": "code",
   "execution_count": null,
   "id": "ed4f1574-cefc-4a9c-85ad-051570afd1a2",
   "metadata": {},
   "outputs": [],
   "source": []
  },
  {
   "cell_type": "markdown",
   "id": "47cf266b-2c4f-4807-b79d-00692bb7bc60",
   "metadata": {},
   "source": [
    "## Explore the structure of dataset\n",
    "\n",
    "1. Check the coordinates of the dataset."
   ]
  },
  {
   "cell_type": "code",
   "execution_count": null,
   "id": "a5e51a77-ac90-4ebc-b2e5-195c1e18e400",
   "metadata": {},
   "outputs": [],
   "source": []
  },
  {
   "cell_type": "markdown",
   "id": "2484ea97-126b-4e3f-b837-0c66f07edace",
   "metadata": {},
   "source": [
    "2. Check all the time stamps of the dataset "
   ]
  },
  {
   "cell_type": "code",
   "execution_count": null,
   "id": "8850d1f3-3861-4010-bdf2-d29fc195c475",
   "metadata": {},
   "outputs": [],
   "source": []
  },
  {
   "cell_type": "markdown",
   "id": "ae33fede-7813-471e-b1b5-89aa71872819",
   "metadata": {},
   "source": [
    "3. Print only red band values "
   ]
  },
  {
   "cell_type": "code",
   "execution_count": null,
   "id": "c03aaec0-0bbd-45ce-a9b7-65a3c4e5100c",
   "metadata": {},
   "outputs": [],
   "source": []
  },
  {
   "cell_type": "markdown",
   "id": "fcf4df13-fd07-44d4-ad19-16941b32882e",
   "metadata": {},
   "source": [
    "4. Select green band data at the third time stamp"
   ]
  },
  {
   "cell_type": "code",
   "execution_count": null,
   "id": "5a0127db-b5ba-4d37-9722-7e2a9c53e196",
   "metadata": {
    "tags": []
   },
   "outputs": [],
   "source": []
  },
  {
   "cell_type": "markdown",
   "id": "6fe436fe-fe03-4875-8e94-aa1555c5568d",
   "metadata": {},
   "source": [
    "5. Select data of all spectral bands at the last time stamp"
   ]
  },
  {
   "cell_type": "code",
   "execution_count": null,
   "id": "4a4cd246-dddc-437b-835b-5b3befddbd60",
   "metadata": {},
   "outputs": [],
   "source": []
  },
  {
   "cell_type": "markdown",
   "id": "05b429e1-b2b7-49ff-b9ca-9b275161f8fd",
   "metadata": {},
   "source": [
    "6. Select data of all spectral bands for the year 2020 August. "
   ]
  },
  {
   "cell_type": "code",
   "execution_count": null,
   "id": "3eca847b-9a70-4007-aed7-ad182543c3fc",
   "metadata": {},
   "outputs": [],
   "source": []
  },
  {
   "cell_type": "markdown",
   "id": "b3221228-acb3-4ba9-b090-132f2fe2ecd9",
   "metadata": {},
   "source": [
    "## Reshape the dataset\n",
    "\n",
    "First, subset the dataset of all spectral bands for the day \"2020-08-02\" and convert it to 4-dimension DataArray by adding the band to the dimension. \n",
    "\n",
    "Next, convert the 4-dimension DataArray back to a 3-dimension Dataset by setting the \"time\" as DataVariable.\n",
    "\n",
    "Check the dimensions using attributes. "
   ]
  },
  {
   "cell_type": "code",
   "execution_count": null,
   "id": "a8924edd-3e9b-4546-b270-45bf078ec9d0",
   "metadata": {},
   "outputs": [],
   "source": []
  },
  {
   "cell_type": "code",
   "execution_count": null,
   "id": "4493830b-77a9-4c55-826a-b179af0af55e",
   "metadata": {},
   "outputs": [],
   "source": []
  }
 ],
 "metadata": {
  "kernelspec": {
   "display_name": "Python 3 (ipykernel)",
   "language": "python",
   "name": "python3"
  },
  "language_info": {
   "codemirror_mode": {
    "name": "ipython",
    "version": 3
   },
   "file_extension": ".py",
   "mimetype": "text/x-python",
   "name": "python",
   "nbconvert_exporter": "python",
   "pygments_lexer": "ipython3",
   "version": "3.9.13"
  }
 },
 "nbformat": 4,
 "nbformat_minor": 5
}
