{
 "cells": [
  {
   "cell_type": "markdown",
   "id": "4d8a1c64-9f4c-4044-9370-ff97eb6f4d5f",
   "metadata": {},
   "source": [
    "<img align=\"right\" src=\"../../../additional_data/banner_siegel.png\" style=\"width:1000px;\">"
   ]
  },
  {
   "cell_type": "markdown",
   "id": "a0784ce8-8142-4799-9386-71716c588a5e",
   "metadata": {},
   "source": [
    "# Exercise for plotting \n",
    "\n",
    "* [**Sign up to the JupyterHub**](https://www.phenocube.org/) to run this notebook interactively from your browser\n",
    "* **Compatibility:** Notebook currently compatible with the Open Data Cube environments of the University of Wuerzburg\n"
   ]
  },
  {
   "cell_type": "markdown",
   "id": "28a4811e-3e03-41ec-9634-67b10614dfce",
   "metadata": {},
   "source": [
    "## Load packages and connect to eo2cube datacube\n",
    "\n",
    "Import following libraries \n",
    "\n",
    "* datacube \n",
    "* matplotlib.pyplot as plt \n",
    "* pandas as pd\n",
    "* seaborn as sns\n",
    "* with_ui_cbk from odc.ui \n",
    "* rgb from dea_tools.plotting \n",
    "\n",
    "And then, connect to eo2cube dataset. "
   ]
  },
  {
   "cell_type": "code",
   "execution_count": null,
   "id": "d5255a2a-d47c-4fe8-bebb-2e08268b6666",
   "metadata": {},
   "outputs": [],
   "source": []
  },
  {
   "cell_type": "markdown",
   "id": "39c2add0-452d-4e42-98d4-d9587b47cfdc",
   "metadata": {},
   "source": [
    "Load Sentinel-2 data from the eo2cube datacube with dc.load() function and following options.<br> \n",
    "\n",
    "* Longitude range: (24.39, 24.69), <br> \n",
    "* Latitude range: (-28.23, -28.38) <br> \n",
    "* Time range: 2020-08-01 to 2020-08-15 <br> \n",
    "* Bands: blue, green, red, Near Infrared , Short Wave Infrared-1, a Scene Classification map <br> \n",
    "* Output coordinate system: EPSG:32734 <br> \n",
    "* Resolution: 10m <br> \n",
    "* Select only solar days \n",
    "* Use loading bar\n"
   ]
  },
  {
   "cell_type": "code",
   "execution_count": null,
   "id": "5b7af56f-253d-433c-b674-f82a980f9b3c",
   "metadata": {},
   "outputs": [],
   "source": []
  },
  {
   "cell_type": "markdown",
   "id": "d0cfef35-e0c3-40cb-8e39-0e6bdd9fc473",
   "metadata": {},
   "source": [
    "## Raster plotting \n",
    "\n",
    "1. Plot the dataset of the first time stamp as True Color Composite with `rgb` function "
   ]
  },
  {
   "cell_type": "code",
   "execution_count": null,
   "id": "4e78232f-360c-4544-b596-67b7c5267bcd",
   "metadata": {},
   "outputs": [],
   "source": []
  },
  {
   "cell_type": "markdown",
   "id": "299b43d9-b62c-4358-80d9-111415c7b7de",
   "metadata": {},
   "source": [
    "2. Select the first time stamp and visualize as agriculture Composite. [Examples of False Color Composites](http://gsp.humboldt.edu/olm/Courses/GSP_216/lessons/composites.html) "
   ]
  },
  {
   "cell_type": "code",
   "execution_count": null,
   "id": "da9c53a6-83f8-4c2f-baef-e279e61e03a6",
   "metadata": {},
   "outputs": [],
   "source": []
  },
  {
   "cell_type": "markdown",
   "id": "c037ff62-929a-4e3b-860a-1a4bb028d9b0",
   "metadata": {},
   "source": [
    "3. Plot Near Infrared band of two time stamps (the first and the last stamp) using facet plot. Plot only one column in one row. The argument `figsize` can set the width and height."
   ]
  },
  {
   "cell_type": "code",
   "execution_count": null,
   "id": "5489aa8b-2a46-4efc-99e3-93b067baf9db",
   "metadata": {},
   "outputs": [],
   "source": []
  },
  {
   "cell_type": "markdown",
   "id": "bf7453c7-5916-459b-9beb-38bf68713b6b",
   "metadata": {},
   "source": [
    "4. Mask out not vegetated area using SCL band and plot Near Infrared band with the last and first time stamp like before. "
   ]
  },
  {
   "cell_type": "code",
   "execution_count": null,
   "id": "50fbc2db-c11b-47d3-92fe-0002a00569a2",
   "metadata": {},
   "outputs": [],
   "source": []
  },
  {
   "cell_type": "markdown",
   "id": "033b1200-63f2-4ab0-bce2-6976c7ca2658",
   "metadata": {},
   "source": [
    "5. Plot monthly average values (August and September) with same options before. (NIR band, figsize setting, one column in a row) And use the [`cmap`](\"https://matplotlib.org/stable/tutorials/colors/colormaps.html\") and `levels` argument. "
   ]
  },
  {
   "cell_type": "code",
   "execution_count": null,
   "id": "735445e2-6b6d-4392-8300-e5f886301a52",
   "metadata": {},
   "outputs": [],
   "source": []
  },
  {
   "cell_type": "markdown",
   "id": "b8914bae-f0ff-41a8-8fb6-f623f27fc987",
   "metadata": {},
   "source": [
    "## Panda Dataframe and Seaborn plotting \n",
    "\n",
    "First, create a pandas dataframe of mean values of each time stamp. And delete \"spaital_ref\" and \"SCL\" columns using `drop` function. "
   ]
  },
  {
   "cell_type": "code",
   "execution_count": null,
   "id": "c9f91af0-90a5-46cc-999e-593b489bf545",
   "metadata": {},
   "outputs": [],
   "source": []
  },
  {
   "cell_type": "markdown",
   "id": "5ae2f9f8-fe3d-42b9-a469-11737e497bef",
   "metadata": {},
   "source": [
    "Next, create a violin plot of all columns"
   ]
  },
  {
   "cell_type": "code",
   "execution_count": null,
   "id": "47ed5655-0c5e-4bb1-817b-beeb40e72aaa",
   "metadata": {},
   "outputs": [],
   "source": []
  },
  {
   "cell_type": "markdown",
   "id": "b90ab591-52ce-411c-abba-6026450409e0",
   "metadata": {},
   "source": [
    "Last, create a pairplot from seaborn using only NIR and Red bands. The title of the plot is \"Correlation between NIR and red\""
   ]
  },
  {
   "cell_type": "code",
   "execution_count": null,
   "id": "de21b2b8-8cd1-4d57-81e8-0d33c8ce784e",
   "metadata": {},
   "outputs": [],
   "source": []
  }
 ],
 "metadata": {
  "kernelspec": {
   "display_name": "Python 3 (ipykernel)",
   "language": "python",
   "name": "python3"
  },
  "language_info": {
   "codemirror_mode": {
    "name": "ipython",
    "version": 3
   },
   "file_extension": ".py",
   "mimetype": "text/x-python",
   "name": "python",
   "nbconvert_exporter": "python",
   "pygments_lexer": "ipython3",
   "version": "3.9.13"
  }
 },
 "nbformat": 4,
 "nbformat_minor": 5
}
