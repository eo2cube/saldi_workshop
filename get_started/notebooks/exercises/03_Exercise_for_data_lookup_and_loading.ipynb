{
 "cells": [
  {
   "cell_type": "markdown",
   "id": "a853fb1a-a02e-47e7-8298-03761ab827c4",
   "metadata": {},
   "source": [
    "<img align=\"right\" src=\"../../../additional_data/banner_siegel.png\" style=\"width:1000px;\">"
   ]
  },
  {
   "cell_type": "markdown",
   "id": "818094f0-0e70-4639-b9f3-b30c40d38150",
   "metadata": {},
   "source": [
    "# Exercise for data lookup and loading\n",
    "\n",
    "* [**Sign up to the JupyterHub**](https://www.phenocube.org/) to run this notebook interactively from your browser\n",
    "* **Compatibility:** Notebook currently compatible with the Open Data Cube environments of the University of Wuerzburg\n",
    "\n",
    "In this exercise, we will load the datacube Sentinel-2 dataset. "
   ]
  },
  {
   "cell_type": "markdown",
   "id": "9d0a1d33-4a89-4091-a5c1-de5b34049eb5",
   "metadata": {},
   "source": [
    "## Load packages \n",
    "Import the libraries for running a data cube, such as panda, datacube, matplotlib.pyplot. Please import matplotlib.pyplot as plt and pandas as pd.  "
   ]
  },
  {
   "cell_type": "code",
   "execution_count": null,
   "id": "c00f75af-3805-4e29-8cc7-bfb7223980da",
   "metadata": {},
   "outputs": [],
   "source": []
  },
  {
   "cell_type": "markdown",
   "id": "a553c7e0-ffb2-4c82-b761-ac5952ed1875",
   "metadata": {},
   "source": [
    "## Connect to eo2cube Datacube \n",
    "\n",
    "Let's connect to eo2cube Datacube and use app argument to define a name of this exercise. "
   ]
  },
  {
   "cell_type": "code",
   "execution_count": null,
   "id": "fb9b6301-1461-42c6-8689-8d84e6b6317b",
   "metadata": {},
   "outputs": [],
   "source": []
  },
  {
   "cell_type": "markdown",
   "id": "358aab60-aa61-4eca-ae64-f496a2185ea1",
   "metadata": {},
   "source": [
    "## List products \n",
    "\n",
    "Check all currently available products by using the list_product() function. "
   ]
  },
  {
   "cell_type": "code",
   "execution_count": null,
   "id": "4c6b9ae9-702a-49fe-9d7e-2a689a001ec8",
   "metadata": {},
   "outputs": [],
   "source": []
  },
  {
   "cell_type": "markdown",
   "id": "85c70792-69e0-4ed3-9b69-5bac4ab407c7",
   "metadata": {
    "tags": []
   },
   "source": [
    "## Load data with the dc.load() function \n",
    "\n",
    "Load Sentinel-2 data from the eo2cube datacube with dc.load() function and following options.<br> \n",
    "\n",
    "* Longitude range: (24.81 ,24.95), <br> \n",
    "* Latitude range: (-28.85, -28.79) <br> \n",
    "* Time range: 2018-07-01 to 2018-08-01 <br> \n",
    "* Bands: blue, green, red <br> \n",
    "* Output coordinate system: EPSG:32734 <br> \n",
    "* Resolution: 10m <br> \n"
   ]
  },
  {
   "cell_type": "code",
   "execution_count": null,
   "id": "28bb3ef7-6fda-477d-bbf1-7366418e68ff",
   "metadata": {},
   "outputs": [],
   "source": []
  },
  {
   "cell_type": "markdown",
   "id": "64cfac7a-6929-4f64-88eb-6b4db63ca357",
   "metadata": {},
   "source": [
    "***\n",
    "\n",
    "## Additional information\n",
    "\n",
    "<font size=\"2\">This notebook for the usage in the Open Data Cube entities of the [Department of Remote Sensing](http://remote-sensing.org/), [University of Wuerzburg](https://www.uni-wuerzburg.de/startseite/), is adapted from [Geoscience Australia](https://github.com/GeoscienceAustralia/dea-notebooks), published using the Apache License, Version 2.0. Thanks! </font>\n",
    "\n",
    "**License:** The code in this notebook is licensed under the [Apache License, Version 2.0](https://www.apache.org/licenses/LICENSE-2.0). \n",
    "Digital Earth Australia data is licensed under the [Creative Commons by Attribution 4.0](https://creativecommons.org/licenses/by/4.0/) license.\n",
    "\n",
    "\n",
    "**Contact:** If you would like to report an issue with this notebook, you can file one on [Github](https://github.com).\n",
    "\n",
    "**Last modified:** June 2022"
   ]
  }
 ],
 "metadata": {
  "kernelspec": {
   "display_name": "Python 3 (ipykernel)",
   "language": "python",
   "name": "python3"
  },
  "language_info": {
   "codemirror_mode": {
    "name": "ipython",
    "version": 3
   },
   "file_extension": ".py",
   "mimetype": "text/x-python",
   "name": "python",
   "nbconvert_exporter": "python",
   "pygments_lexer": "ipython3",
   "version": "3.9.13"
  }
 },
 "nbformat": 4,
 "nbformat_minor": 5
}
