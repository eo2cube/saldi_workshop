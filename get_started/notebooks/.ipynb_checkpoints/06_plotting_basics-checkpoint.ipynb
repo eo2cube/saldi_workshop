{
 "cells": [
  {
   "cell_type": "markdown",
   "metadata": {},
   "source": [
    "<img align=\"right\" src=\"../../additional_data/banner_siegel.png\" style=\"width:1000px;\">"
   ]
  },
  {
   "cell_type": "markdown",
   "metadata": {},
   "source": [
    "# Plotting data\n",
    "\n",
    "* [**Sign up to the JupyterHub**](https://www.phenocube.org/) to run this notebook interactively from your browser\n",
    "* **Compatibility:** Notebook currently compatible with the Open Data Cube environments of the University of Wuerzburg\n",
    "* **Products used**: \n",
    "* **Prerequisites**:  Users of this notebook should have a basic understanding of:\n",
    "    * How to run a [Jupyter notebook](01_jupyter_introduction.ipynb)\n",
    "    * The basic structure of the eo2cube [satellite datasets](02_eo2cube.ipynb)\n",
    "    * How to browse through the available [products and measurements](03_products_and_measurements.ipynb) of the eo2cube datacube \n",
    "    * How to [load data from the eo2cube datacube](04_loading_data_and_basic_xarray.ipynb)\n",
    "    * How the data is stored and structured in a [xarray](05_advanced_xarray.ipynb)\n",
    "    * Basic understandings of [matplotlib](https://matplotlib.org/)\n",
    "    * How to use subplots(), to manipulate figure and axis objects in matplotlib ***(for readers who need further information, please check Further Readings.)***"
   ]
  },
  {
   "cell_type": "markdown",
   "metadata": {},
   "source": [
    "## Description\n",
    "\n",
    "This notebook introduces users plotting within the datacube environment. It aims to introduces useful options to effectivly visualize raster data in the eo2cube environment. Within this notebook the following topics are covered:\n",
    "\n",
    "* Plotting `True Color Composite` and `False Color Composite`\n",
    "* Plotting `Histogram` to show frequency distributions\n",
    "* Creating `2D-pseudocolor plot` to illustrate spatial variance\n",
    "* Creating `Facet Plot` to visualize time series\n",
    "* `Masking` scene\n",
    "\n",
    "***"
   ]
  },
  {
   "cell_type": "markdown",
   "metadata": {},
   "source": [
    "## Setting up\n",
    "### Load packages"
   ]
  },
  {
   "cell_type": "code",
   "execution_count": null,
   "metadata": {},
   "outputs": [],
   "source": [
    "import datacube\n",
    "from odc.ui import with_ui_cbk #processing bar for loading data\n",
    "import xarray as xr\n",
    "import numpy as np\n",
    "import matplotlib.pyplot as plt #matplotlib is a plotting for creating static, animated, and interactive visualizations\n",
    "import pandas as pd\n",
    "import seaborn as sns\n",
    "import hvplot.xarray\n",
    "%matplotlib inline\n",
    "#this line allows plotting within the JupyterLab\n",
    "\n",
    "import holoviews as hv #holoviews allows interactive plotting\n",
    "hv.extension('bokeh') #this line allows plotting with the Bokeh server"
   ]
  },
  {
   "cell_type": "markdown",
   "metadata": {},
   "source": [
    "In this script, we need to use two functions from a python script (.py) stored in this environment. \n",
    "\n",
    "To import the functions to the current script, we need a relative path to the file and import display_map, rgb (the name of the functions) from DEAPlotting (the name of the file). `sys.path.append()` is used to add a specific path to the python file. "
   ]
  },
  {
   "cell_type": "code",
   "execution_count": null,
   "metadata": {
    "tags": []
   },
   "outputs": [],
   "source": [
    "from DEAPlotting import display_map, rgb #this line allows us to use specific functions written in another script"
   ]
  },
  {
   "cell_type": "markdown",
   "metadata": {},
   "source": [
    "In this example, we will use `data` which contains scenes of the s2_l2a_bavaria product from December 2019 to Februray 2020.\n",
    "\n",
    "### Load Data"
   ]
  },
  {
   "cell_type": "code",
   "execution_count": null,
   "metadata": {},
   "outputs": [],
   "source": [
    "dc = datacube.Datacube(app = '05_advanced_xarray')"
   ]
  },
  {
   "cell_type": "code",
   "execution_count": null,
   "metadata": {},
   "outputs": [],
   "source": [
    "data = dc.load(product = \"s2_l2a_bavaria\",\n",
    "               x= (9.80, 10.1),\n",
    "               y= (49.70, 49.85),\n",
    "               time = (\"2020-11-01\", \"2020-12-31\"),\n",
    "               progress_cbk=with_ui_cbk())"
   ]
  },
  {
   "cell_type": "markdown",
   "metadata": {},
   "source": [
    "Let's have a look of our data."
   ]
  },
  {
   "cell_type": "code",
   "execution_count": null,
   "metadata": {
    "tags": []
   },
   "outputs": [],
   "source": [
    "data"
   ]
  },
  {
   "cell_type": "markdown",
   "metadata": {},
   "source": [
    "## **RGB Image**"
   ]
  },
  {
   "cell_type": "markdown",
   "metadata": {},
   "source": [
    "To have a first view of our data, we can use the function `rgb()` defined in our written script DEAPlotting. It can be found under the folder Scripts where we do the import. rgb( ) can be used to plot different bands in the Data Variables in the red, blue, and green channels (in this order). If we input all three bands accordingly into the channels, it is called a **true color composite**, otherwise it is plotted as a **false color composite**.\n",
    "\n",
    "However, we have to pay attention that the function can only plot in two dimensions (longitude and latitude). Hence, we can only input data array from a single time stamp. Here, we plot only the first time stamp (time = [0]), with col=\"time\" argument we define the collapse of time dimension. We can look for the band name under Data Variables of the data set."
   ]
  },
  {
   "cell_type": "markdown",
   "metadata": {},
   "source": [
    "#### **1) True Color Composite**\n",
    "With True color composite we input all bands accordingly."
   ]
  },
  {
   "cell_type": "code",
   "execution_count": null,
   "metadata": {},
   "outputs": [],
   "source": [
    "rgb(data.isel(time=[1]), bands=['red', 'green', 'blue'], col=\"time\")"
   ]
  },
  {
   "cell_type": "markdown",
   "metadata": {},
   "source": [
    "#### Alternative: short functions"
   ]
  },
  {
   "cell_type": "code",
   "execution_count": null,
   "metadata": {},
   "outputs": [],
   "source": [
    "def viz2d(ds,r,g,b):\n",
    "    import cartopy.crs as ccrs\n",
    "    da_rgb = ds.isel(time=0).to_array().rename({\"variable\": \"band\"}).sel(band=[r,g,b])\n",
    "    ax = plt.subplot(projection=ccrs.UTM('33S')) #set projection to pre-defined CRS; CRS can be checked using `aoi.crs`.\n",
    "    plot = da_rgb.plot.imshow(ax=ax, rgb='band', transform=ccrs.UTM('33S'), robust=True)\n",
    "    return plot"
   ]
  },
  {
   "cell_type": "code",
   "execution_count": null,
   "metadata": {},
   "outputs": [],
   "source": [
    "viz2d(data.isel(time=[1]),'red', 'green', 'blue')"
   ]
  },
  {
   "cell_type": "markdown",
   "metadata": {},
   "source": [
    "#### **2) False Color Composite**\n",
    "Here we visualize Land/Water composite. You can also try out [different combinations](https://gsp.humboldt.edu/OLM/Courses/GSP_216_Online/lesson3-1/composites.html) which fit for different purposes."
   ]
  },
  {
   "cell_type": "code",
   "execution_count": null,
   "metadata": {},
   "outputs": [],
   "source": [
    "rgb(data.isel(time=[1]), bands=['nir', 'swir1', 'red'], col=\"time\")"
   ]
  },
  {
   "cell_type": "code",
   "execution_count": null,
   "metadata": {},
   "outputs": [],
   "source": [
    "viz2d(data.isel(time=[1]),'nir', 'swir1', 'red')"
   ]
  },
  {
   "cell_type": "markdown",
   "metadata": {},
   "source": [
    "## **Histogram**\n",
    "Besides, we can look at distribution of pixel values by plotting a histogram (i.e. using plot() for a multi-temporal xarray dataset). We can see most of the pixel reflectances lie between 400 and 1000."
   ]
  },
  {
   "cell_type": "code",
   "execution_count": null,
   "metadata": {},
   "outputs": [],
   "source": [
    "data.coastal_aerosol.plot()\n",
    "#data['coastal_aerosol'].plot(color='green')"
   ]
  },
  {
   "cell_type": "markdown",
   "metadata": {},
   "source": [
    "## **Scatterplot**"
   ]
  },
  {
   "cell_type": "code",
   "execution_count": null,
   "metadata": {},
   "outputs": [],
   "source": [
    "data[['red','green']].isel(time=1).plot.scatter(x='red',y='green', color='navy')\n",
    "plt.title(\"Correlation of Red and Green bands\", fontsize=18)"
   ]
  },
  {
   "cell_type": "markdown",
   "metadata": {},
   "source": [
    "## **2D pcolormesh**\n",
    "#### **1) Plotting Single Band**\n",
    "We can also directly plot single individual band using xarray functionality. Important to note that it only take one time stamp and one data variable by default. Here we plot coastal aerosol band with the plot function. A specific [colormap](https://matplotlib.org/stable/tutorials/colors/colormaps.html) can be added with the cmap argument and all ther functionality of matplotlib are also available. The argument robust can be used to remove outliners."
   ]
  },
  {
   "cell_type": "code",
   "execution_count": null,
   "metadata": {},
   "outputs": [],
   "source": [
    "data.coastal_aerosol.isel(time=[1]).plot(robust=True, cmap=plt.cm.plasma)\n",
    "\n",
    "#plt.title(\"Coastal Aerosol Distribution\") #title\n",
    "#plt.ylabel(\"latitude\") #labels\n",
    "#plt.xlabel(\"longitude\")\n",
    "#plt.tight_layout() #remove excessive space in layout\n",
    "plt.show() #show plot"
   ]
  },
  {
   "cell_type": "markdown",
   "metadata": {},
   "source": [
    "Levels argument can be used to set a discrete scale instead of continuous color scale. Note that seaborn colormap can only be used together with levels argument. We can see coastal aerosol is lower above the lake area."
   ]
  },
  {
   "cell_type": "code",
   "execution_count": null,
   "metadata": {},
   "outputs": [],
   "source": [
    "data.coastal_aerosol.isel(time=[1]).plot(levels = 3, cmap=\"jet\") #3/5 levels only\n",
    "#data.coastal_aerosol.isel(time=[0]).plot(levels = 5, cmap=\"mako\", robust=True)"
   ]
  },
  {
   "cell_type": "markdown",
   "metadata": {},
   "source": [
    "#### **2) Facet Plot**\n",
    "We can plot facet plot with the col=\"time\" argument to show all time stamps. Note that plotting too many time stamps at once is not recommanded."
   ]
  },
  {
   "cell_type": "code",
   "execution_count": null,
   "metadata": {},
   "outputs": [],
   "source": [
    "#data.isel(time=[0,2,4,6,8,10]).green.plot()\n",
    "data.isel(time=[0,2,4,6,8,10]).green.plot(robust=True, col=\"time\", col_wrap=3)"
   ]
  },
  {
   "cell_type": "markdown",
   "metadata": {},
   "source": [
    "#### **3) Masking**\n",
    "We can also mask out area in the plot. The following code excludes the cloud area (scl = 9)."
   ]
  },
  {
   "cell_type": "markdown",
   "metadata": {},
   "source": [
    "<img align=\"left\" src=\"scl.png\" style=\"width:250px;\">"
   ]
  },
  {
   "cell_type": "code",
   "execution_count": null,
   "metadata": {},
   "outputs": [],
   "source": [
    "data.coastal_aerosol.isel(time=[0]).where(data.scl != 9).plot()"
   ]
  },
  {
   "cell_type": "code",
   "execution_count": null,
   "metadata": {},
   "outputs": [],
   "source": [
    "# Combining masking in facet plot\n",
    "data.isel(time=[0,2,4,6,8,10]).green.where(data.scl != 9).plot(robust=True, col=\"time\", col_wrap=3)"
   ]
  },
  {
   "cell_type": "markdown",
   "metadata": {},
   "source": [
    "#### **4) Average**\n",
    "We can also do resampling (resample() + mean()) before plotting to get monthly average values. Here we get values for January and February respectively."
   ]
  },
  {
   "cell_type": "code",
   "execution_count": null,
   "metadata": {},
   "outputs": [],
   "source": [
    "data.coastal_aerosol.resample(time='1M').mean().plot(col=\"time\", cmap=\"turbo\", levels=10)"
   ]
  },
  {
   "cell_type": "markdown",
   "metadata": {},
   "source": [
    "#### **5) Interactive Layout**\n",
    "Also, interative call of different scene is possible to explore around the data."
   ]
  },
  {
   "cell_type": "code",
   "execution_count": null,
   "metadata": {},
   "outputs": [],
   "source": [
    "from eo2cube_tools.plot import plot_band\n",
    "\n",
    "plot_band(data)\n",
    "#plot_band(data[['red','green','blue']].resample(time='2W').mean())"
   ]
  },
  {
   "cell_type": "markdown",
   "metadata": {},
   "source": [
    "## **Time Series Linechart**\n",
    "Xarray’s plotting capabilities are centered around DataArray objects, and its functionality is a thin wrapper around matplotlib. Hence, many Matplotlib functionalities, such as `plt.title()`, can be easily called. \n",
    "\n",
    "To produce time series plot, we can reduce the dimensions of longitude and latitude with `mean(dim=[\"longitude\",\"latitude\"])` so that we get a single value of the whole area for every single time stamps. The resulting array can be used to plot a linechart with `matplotlib.pyplot`(plt) framework."
   ]
  },
  {
   "cell_type": "code",
   "execution_count": null,
   "metadata": {},
   "outputs": [],
   "source": [
    "masked = data.coastal_aerosol.where(data.scl != 9)\n",
    "week_data = masked.median(dim=[\"x\",\"y\"]).resample(time='1w').mean()\n",
    "ts_plot = week_data.plot(color=\"orangered\", marker=\"d\", markersize=8) #dimension reduction\n",
    "ts_plot\n",
    "\n",
    "plt.title(\"Temporal Dynamics of Coastal Aerosol\", fontsize=15) #define title with matplotlib\n",
    "plt.ylabel(\"Reflectance\") #labels\n",
    "plt.xlabel(\"Date\")\n",
    "plt.tight_layout() #remove excessive space in layout\n",
    "plt.show() #display plot"
   ]
  },
  {
   "cell_type": "markdown",
   "metadata": {},
   "source": [
    "Additional arguments can be passed directly to the matplotlib function. We can, for example, also plot histogram with the data array."
   ]
  },
  {
   "cell_type": "markdown",
   "metadata": {},
   "source": [
    "## **Using Pandas and Seaborn**\n",
    "In the plotting basics, we have learnt how to create graphics using xarray and pyplot. Yet, we can also utilize pandas and seaborn library with their more developed tools to improve the visuals of our plot. It requires more code but meanwhile gives more flexibility for plot customization."
   ]
  },
  {
   "cell_type": "code",
   "execution_count": null,
   "metadata": {},
   "outputs": [],
   "source": [
    "#data.to_dataframe()"
   ]
  },
  {
   "cell_type": "code",
   "execution_count": null,
   "metadata": {},
   "outputs": [],
   "source": [
    "df2 = data[[\"coastal_aerosol\",\"swir1\"]].mean(dim=[\"x\",\"y\"]).to_dataframe() #convert to pandas\n",
    "df2.head()"
   ]
  },
  {
   "cell_type": "code",
   "execution_count": null,
   "metadata": {},
   "outputs": [],
   "source": [
    "df2 = df2.drop(['spatial_ref'], axis=1) #delete unneeded columns\n",
    "df2.head()"
   ]
  },
  {
   "cell_type": "code",
   "execution_count": null,
   "metadata": {},
   "outputs": [],
   "source": [
    "ax3 = sns.pairplot(df2[[\"coastal_aerosol\",\"swir1\"]]) #pairplot\n",
    "plt.suptitle(\"Correlation between SWIR and Aerosol\") #main title\n",
    "plt.tight_layout()\n",
    "plt.show()"
   ]
  },
  {
   "cell_type": "code",
   "execution_count": null,
   "metadata": {},
   "outputs": [],
   "source": [
    "ax4 = sns.violinplot(data=df2, orient='h') #violin plot\n",
    "\n",
    "ax4.set_yticks(range(2)) #needed to generate two y-tick labels\n",
    "ax4.set_yticklabels(['Aerosol','SWIR 1']) #List of y-tick labels"
   ]
  },
  {
   "cell_type": "markdown",
   "metadata": {},
   "source": [
    "## Recommended next steps\n",
    "\n",
    "To continue with the beginner's guide, the following notebooks are designed to be worked through in the following order:\n",
    "\n",
    "1. [Jupyter Notebooks](01_jupyter_introduction.ipynb)\n",
    "2. [eo2cube](02_eo2cube.ipynb)\n",
    "3. [Products and Measurements](03_products_and_measurements.ipynb)\n",
    "4. [Loading data](04_loading_data.ipynb)\n",
    "5. [Advanced xarrays operations](05_advanced_xarray.ipynb)\n",
    "6. **Plotting data (this notebook)**\n",
    "7. [Basic analysis of remote sensing data](07_basic_analysis.ipynb)\n",
    "8. [Parallel processing with Dask](08_parallel_processing_with_dask.ipynb)"
   ]
  },
  {
   "cell_type": "markdown",
   "metadata": {},
   "source": [
    "***\n",
    "\n",
    "## Further Reading\n",
    "For users who are not familar with basics functionality and plottings of matplotlib, please check on the following external tutorial to learn about:\n",
    "\n",
    "1) [Short Introduction of Matplotlib](https://towardsdatascience.com/matplotlib-tutorial-learn-basics-of-pythons-powerful-plotting-library-b5d1b8f67596)\n",
    "\n",
    "*  Plotting options and parameters of Matplotlib\n",
    "\n",
    "2) [Introduction to Plotting in Python Using Matplotlib](https://www.earthdatascience.org/courses/scientists-guide-to-plotting-data-in-python/plot-with-matplotlib/introduction-to-matplotlib-plots/).\n",
    "\n",
    "*  Introduction to pyplot module\n",
    "*  Customize Plots Using Matplotlib (Tick, Label, Title, Marker, Color, etc.)\n",
    "\n",
    "3) Working With Datetime Objects in Python\n",
    "\n",
    "*  [Introduction to Datetime Object](https://www.earthdatascience.org/courses/use-data-open-source-python/use-time-series-data-in-python/date-time-types-in-pandas-python/)\n",
    "*  [Customize Matplotlibe Dates Ticks on the x-axis in Python](https://www.earthdatascience.org/courses/scientists-guide-to-plotting-data-in-python/plot-with-matplotlib/introduction-to-matplotlib-plots/plot-time-series-data-in-python/)\n",
    "\n",
    "<br>\n",
    "To continue working through the notebooks in this beginner's guide, the following notebooks are designed to be worked through in the following order:\n",
    "\n",
    "1. [Jupyter Notebooks](https://github.com/eo2cube/eo2cube_notebooks/blob/main/get_started/intro_to_eo2cube/01_jupyter_introduction.ipynb)\n",
    "2. [eo2cube](https://github.com/eo2cube/eo2cube_notebooks/blob/main/get_started/intro_to_eo2cube/02_eo2cube_introduction.ipynb)\n",
    "3. [Loading Data](https://github.com/eo2cube/eo2cube_notebooks/blob/main/get_started/intro_to_eo2cube/03_data_lookup_and_loading.ipynb)\n",
    "4. [Xarray I: Data Structure](https://github.com/eo2cube/eo2cube_notebooks/blob/main/get_started/intro_to_eo2cube/04_xarrayI_data_structure.ipynb)\n",
    "5. [Xarray II: Index and Statistics](https://github.com/eo2cube/eo2cube_notebooks/blob/main/get_started/intro_to_eo2cube/05_xarrayII.ipynb)\n",
    "6. ***Plotting data (this notebook)***\n",
    "7. [Spatial analysis](https://github.com/eo2cube/eo2cube_notebooks/blob/main/get_started/intro_to_eo2cube/07_basic_analysis.ipynb)\n",
    "8. [Parallel processing with Dask](https://github.com/eo2cube/eo2cube_notebooks/blob/main/get_started/intro_to_eo2cube/08_parallel_processing_with_dask.ipynb)\n",
    "\n",
    "The additional notebooks are designed for users to build up both basic and advanced skills which are not covered by the beginner's guide. Self-motivated users can go through them according to their own needs. They act as complements for the guide:\n",
    "<br>\n",
    "\n",
    "1. [Python's file management tools](https://github.com/eo2cube/eo2cube_notebooks/blob/main/get_started/intro_to_eo2cube/I_file_management.ipynb)\n",
    "2. [Image Processing basics using NumPy and Matplotlib](https://github.com/eo2cube/eo2cube_notebooks/blob/main/get_started/intro_to_eo2cube/II_numpy_image_processing.ipynb)\n",
    "3. [Vector Processing](https://github.com/eo2cube/eo2cube_notebooks/blob/main/get_started/intro_to_eo2cube/III_process_vector_data.ipynb)\n",
    "4. [Advanced Plotting](https://github.com/eo2cube/eo2cube_notebooks/blob/main/get_started/intro_to_eo2cube/IV_advanced_plotting.ipynb)"
   ]
  },
  {
   "cell_type": "markdown",
   "metadata": {},
   "source": [
    "***\n",
    "\n",
    "## Additional information\n",
    "\n",
    "<font size=\"2\">This notebook for the usage in the Open Data Cube entities of the [Department of Remote Sensing](http://remote-sensing.org/), [University of Wuerzburg](https://www.uni-wuerzburg.de/startseite/), is adapted from [Geoscience Australia](https://github.com/GeoscienceAustralia/dea-notebooks), published using the Apache License, Version 2.0. Thanks! </font>\n",
    "\n",
    "**License:** The code in this notebook is licensed under the [Apache License, Version 2.0](https://www.apache.org/licenses/LICENSE-2.0). \n",
    "Digital Earth Australia data is licensed under the [Creative Commons by Attribution 4.0](https://creativecommons.org/licenses/by/4.0/) license.\n",
    "\n",
    "\n",
    "**Contact:** If you would like to report an issue with this notebook, you can file one on [Github](https://github.com).\n",
    "\n",
    "**Last modified:** February 2021"
   ]
  }
 ],
 "metadata": {
  "kernelspec": {
   "display_name": "Python 3",
   "language": "python",
   "name": "python3"
  },
  "language_info": {
   "codemirror_mode": {
    "name": "ipython",
    "version": 3
   },
   "file_extension": ".py",
   "mimetype": "text/x-python",
   "name": "python",
   "nbconvert_exporter": "python",
   "pygments_lexer": "ipython3",
   "version": "3.9.7"
  }
 },
 "nbformat": 4,
 "nbformat_minor": 4
}
